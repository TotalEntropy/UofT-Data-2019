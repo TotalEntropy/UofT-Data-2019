{
 "cells": [
  {
   "cell_type": "code",
   "execution_count": 38,
   "metadata": {},
   "outputs": [],
   "source": [
    "#importing libraries\n",
    "import os\n",
    "import csv\n",
    "\n",
    "#Importing csv file\n",
    "budget_csv = os.path.join(\"budget_data.csv\")\n",
    "\n",
    "total = 0\n",
    "months = 0"
   ]
  },
  {
   "cell_type": "code",
   "execution_count": 39,
   "metadata": {
    "scrolled": true
   },
   "outputs": [
    {
     "name": "stdout",
     "output_type": "stream",
     "text": [
      "86\n",
      "38382578\n",
      "446309.0465116279\n"
     ]
    }
   ],
   "source": [
    "with open(budget_csv, newline = \"\") as csv_file:\n",
    "    csv_reader = csv.reader(csv_file, delimiter = ',')\n",
    "    \n",
    "    csv_header = next(csv_reader)\n",
    "    \n",
    "#    months = len(csv_reader)\n",
    "    \n",
    "    for row in csv_reader:\n",
    "        \n",
    "        # Taking the net profit/loss\n",
    "        total += int(row[1])\n",
    "        \n",
    "        # Counting the number of months\n",
    "        months += 1\n",
    "\n",
    "        change = int(row[1]) - int(row[1])\n",
    "        \n",
    "        last_month = int(row[1])\n",
    "        \n",
    "\n",
    "print(months)        \n",
    "        \n",
    "print(total)\n",
    "\n",
    "print(total/months)"
   ]
  },
  {
   "cell_type": "code",
   "execution_count": null,
   "metadata": {},
   "outputs": [],
   "source": []
  }
 ],
 "metadata": {
  "kernelspec": {
   "display_name": "Python 3",
   "language": "python",
   "name": "python3"
  },
  "language_info": {
   "codemirror_mode": {
    "name": "ipython",
    "version": 3
   },
   "file_extension": ".py",
   "mimetype": "text/x-python",
   "name": "python",
   "nbconvert_exporter": "python",
   "pygments_lexer": "ipython3",
   "version": "3.7.1"
  }
 },
 "nbformat": 4,
 "nbformat_minor": 2
}
