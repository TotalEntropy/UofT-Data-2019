{
 "cells": [
  {
   "cell_type": "code",
   "execution_count": 1,
   "metadata": {},
   "outputs": [],
   "source": [
    "#importing libraries\n",
    "import os\n",
    "import csv\n",
    "\n",
    "#Importing csv file\n",
    "budget_csv = os.path.join(\"budget_data.csv\")"
   ]
  },
  {
   "cell_type": "code",
   "execution_count": 28,
   "metadata": {
    "scrolled": true
   },
   "outputs": [
    {
     "name": "stdout",
     "output_type": "stream",
     "text": [
      "Financial Analysis\n",
      "------------------------\n",
      "Total Months: 86\n",
      "Total: 38382578\n",
      "Average Change: -2315.12\n",
      "1170593\n",
      "-1196225\n"
     ]
    }
   ],
   "source": [
    "# initialising variables\n",
    "change = 0\n",
    "prev_month = 0\n",
    "total = 0\n",
    "months = 0\n",
    "\n",
    "# opening the csv\n",
    "with open(budget_csv, newline = \"\") as csv_file:\n",
    "    csv_reader = csv.reader(csv_file, delimiter = ',')\n",
    "    \n",
    "    next(csv_reader)\n",
    "    \n",
    "    # initialising variables\n",
    "    great_inc = int(row[1])\n",
    "    great_dec = int(row[1])\n",
    "    \n",
    "    #looping through the csv\n",
    "    for row in csv_reader:\n",
    "        \n",
    "        # Taking the net profit/loss\n",
    "        total += int(row[1])\n",
    "        \n",
    "        # Counting the number of months\n",
    "        months += 1\n",
    "        \n",
    "        # Taking the average change\n",
    "        if months > 1:\n",
    "            change += int(row[1]) - prev_month\n",
    "        \n",
    "        # Finding greatest increase\n",
    "        if int(row[1]) > great_inc:\n",
    "            great_inc = int(row[1])\n",
    "            \n",
    "        # Finding greatest decrease\n",
    "        if int(row[1]) < great_dec:\n",
    "            great_dec = int(row[1])\n",
    "        \n",
    "        # storing the last month's profit/loss\n",
    "        prev_month = int(row[1])   \n",
    "        \n",
    "# Printing the results\n",
    "print(\"Financial Analysis\")\n",
    "print(\"------------------------\")\n",
    "print(f'Total Months: {months}')               \n",
    "print(f'Total: {total}')\n",
    "print(f'Average Change: {round(change/(months - 1),2)}')\n",
    "print(f'{great_inc}')\n",
    "print(f'{great_dec}')"
   ]
  },
  {
   "cell_type": "code",
   "execution_count": null,
   "metadata": {},
   "outputs": [],
   "source": []
  }
 ],
 "metadata": {
  "kernelspec": {
   "display_name": "Python 3",
   "language": "python",
   "name": "python3"
  },
  "language_info": {
   "codemirror_mode": {
    "name": "ipython",
    "version": 3
   },
   "file_extension": ".py",
   "mimetype": "text/x-python",
   "name": "python",
   "nbconvert_exporter": "python",
   "pygments_lexer": "ipython3",
   "version": "3.7.1"
  }
 },
 "nbformat": 4,
 "nbformat_minor": 2
}
