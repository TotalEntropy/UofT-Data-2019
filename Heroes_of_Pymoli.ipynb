{
 "cells": [
  {
   "cell_type": "markdown",
   "metadata": {},
   "source": [
    "# Heroes of Pymoli Data Analysis"
   ]
  },
  {
   "cell_type": "code",
   "execution_count": 1,
   "metadata": {},
   "outputs": [
    {
     "data": {
      "application/javascript": [
       "IPython.notebook.set_autosave_interval(60000)"
      ]
     },
     "metadata": {},
     "output_type": "display_data"
    },
    {
     "name": "stdout",
     "output_type": "stream",
     "text": [
      "Autosaving every 60 seconds\n"
     ]
    }
   ],
   "source": [
    "# Dependencies and Setup\n",
    "%autosave 60\n",
    "import pandas as pd\n",
    "import numpy as np\n",
    "\n",
    "# File to Load (Remember to Change These)\n",
    "csv_file = \"Resources/purchase_data.csv\"\n",
    "\n",
    "# Read Purchasing File and store into Pandas data frame\n",
    "purchase_data = pd.read_csv(csv_file)\n",
    "raw = pd.read_csv(csv_file)"
   ]
  },
  {
   "cell_type": "markdown",
   "metadata": {},
   "source": [
    "## Player Count"
   ]
  },
  {
   "cell_type": "code",
   "execution_count": 2,
   "metadata": {
    "scrolled": true
   },
   "outputs": [
    {
     "data": {
      "text/html": [
       "<div>\n",
       "<style scoped>\n",
       "    .dataframe tbody tr th:only-of-type {\n",
       "        vertical-align: middle;\n",
       "    }\n",
       "\n",
       "    .dataframe tbody tr th {\n",
       "        vertical-align: top;\n",
       "    }\n",
       "\n",
       "    .dataframe thead th {\n",
       "        text-align: right;\n",
       "    }\n",
       "</style>\n",
       "<table border=\"1\" class=\"dataframe\">\n",
       "  <thead>\n",
       "    <tr style=\"text-align: right;\">\n",
       "      <th></th>\n",
       "      <th>Total Players</th>\n",
       "    </tr>\n",
       "  </thead>\n",
       "  <tbody>\n",
       "    <tr>\n",
       "      <th>0</th>\n",
       "      <td>576</td>\n",
       "    </tr>\n",
       "  </tbody>\n",
       "</table>\n",
       "</div>"
      ],
      "text/plain": [
       "   Total Players\n",
       "0            576"
      ]
     },
     "execution_count": 2,
     "metadata": {},
     "output_type": "execute_result"
    }
   ],
   "source": [
    "# Counting the number of unique SN assumed to be ID names\n",
    "player_count = pd.DataFrame(data = {'Total Players' : raw['SN'].nunique()}, index = [0])\n",
    "player_count.head()"
   ]
  },
  {
   "cell_type": "markdown",
   "metadata": {},
   "source": [
    "## Purchasing Analysis"
   ]
  },
  {
   "cell_type": "code",
   "execution_count": 3,
   "metadata": {
    "scrolled": true
   },
   "outputs": [
    {
     "data": {
      "text/html": [
       "<style  type=\"text/css\" >\n",
       "</style>  \n",
       "<table id=\"T_5e7d7180_34b4_11e9_b800_10c37b702c42\" > \n",
       "<thead>    <tr> \n",
       "        <th class=\"blank level0\" ></th> \n",
       "        <th class=\"col_heading level0 col0\" >Number of Unique Items</th> \n",
       "        <th class=\"col_heading level0 col1\" >Average Purchase Price</th> \n",
       "        <th class=\"col_heading level0 col2\" >Total Number of Purchases</th> \n",
       "        <th class=\"col_heading level0 col3\" >Total Revenue</th> \n",
       "    </tr></thead> \n",
       "<tbody>    <tr> \n",
       "        <th id=\"T_5e7d7180_34b4_11e9_b800_10c37b702c42level0_row0\" class=\"row_heading level0 row0\" >0</th> \n",
       "        <td id=\"T_5e7d7180_34b4_11e9_b800_10c37b702c42row0_col0\" class=\"data row0 col0\" >183</td> \n",
       "        <td id=\"T_5e7d7180_34b4_11e9_b800_10c37b702c42row0_col1\" class=\"data row0 col1\" >$3.05</td> \n",
       "        <td id=\"T_5e7d7180_34b4_11e9_b800_10c37b702c42row0_col2\" class=\"data row0 col2\" >780</td> \n",
       "        <td id=\"T_5e7d7180_34b4_11e9_b800_10c37b702c42row0_col3\" class=\"data row0 col3\" >$2,379.77</td> \n",
       "    </tr></tbody> \n",
       "</table> "
      ],
      "text/plain": [
       "<pandas.io.formats.style.Styler at 0x19e9d7d4c18>"
      ]
     },
     "execution_count": 3,
     "metadata": {},
     "output_type": "execute_result"
    }
   ],
   "source": [
    "# Counting the unique number of item IDs\n",
    "purchase_analysis = pd.DataFrame(data = {'Number of Unique Items' : raw['Item ID'].nunique()}, index = [0])\n",
    "\n",
    "# Taking the mean of the item purchase price\n",
    "purchase_analysis['Average Purchase Price'] = raw['Price'].mean()\n",
    "\n",
    "# Calculating the number of unique purchases\n",
    "purchase_analysis['Total Number of Purchases'] = raw['Purchase ID'].nunique()\n",
    "\n",
    "#Calculating the sum of all of the purchases\n",
    "purchase_analysis['Total Revenue'] = raw['Price'].sum()\n",
    "\n",
    "# Displaying the price as currency\n",
    "purchase_analysis.style.format({'Average Purchase Price' : '${:.2f}', 'Total Revenue' : '${:,.2f}'})"
   ]
  },
  {
   "cell_type": "markdown",
   "metadata": {},
   "source": [
    "## Gender Demographics"
   ]
  },
  {
   "cell_type": "code",
   "execution_count": 4,
   "metadata": {},
   "outputs": [
    {
     "data": {
      "text/html": [
       "<style  type=\"text/css\" >\n",
       "</style>  \n",
       "<table id=\"T_5e82a138_34b4_11e9_8e6a_10c37b702c42\" > \n",
       "<thead>    <tr> \n",
       "        <th class=\"blank level0\" ></th> \n",
       "        <th class=\"col_heading level0 col0\" >Total Count</th> \n",
       "        <th class=\"col_heading level0 col1\" >Percentage of Players</th> \n",
       "    </tr>    <tr> \n",
       "        <th class=\"index_name level0\" >Gender</th> \n",
       "        <th class=\"blank\" ></th> \n",
       "        <th class=\"blank\" ></th> \n",
       "    </tr></thead> \n",
       "<tbody>    <tr> \n",
       "        <th id=\"T_5e82a138_34b4_11e9_8e6a_10c37b702c42level0_row0\" class=\"row_heading level0 row0\" >Male</th> \n",
       "        <td id=\"T_5e82a138_34b4_11e9_8e6a_10c37b702c42row0_col0\" class=\"data row0 col0\" >484</td> \n",
       "        <td id=\"T_5e82a138_34b4_11e9_8e6a_10c37b702c42row0_col1\" class=\"data row0 col1\" >84.03%</td> \n",
       "    </tr>    <tr> \n",
       "        <th id=\"T_5e82a138_34b4_11e9_8e6a_10c37b702c42level0_row1\" class=\"row_heading level0 row1\" >Female</th> \n",
       "        <td id=\"T_5e82a138_34b4_11e9_8e6a_10c37b702c42row1_col0\" class=\"data row1 col0\" >81</td> \n",
       "        <td id=\"T_5e82a138_34b4_11e9_8e6a_10c37b702c42row1_col1\" class=\"data row1 col1\" >14.06%</td> \n",
       "    </tr>    <tr> \n",
       "        <th id=\"T_5e82a138_34b4_11e9_8e6a_10c37b702c42level0_row2\" class=\"row_heading level0 row2\" >Other / Non-Disclosed</th> \n",
       "        <td id=\"T_5e82a138_34b4_11e9_8e6a_10c37b702c42row2_col0\" class=\"data row2 col0\" >11</td> \n",
       "        <td id=\"T_5e82a138_34b4_11e9_8e6a_10c37b702c42row2_col1\" class=\"data row2 col1\" >1.91%</td> \n",
       "    </tr></tbody> \n",
       "</table> "
      ],
      "text/plain": [
       "<pandas.io.formats.style.Styler at 0x19e9e514780>"
      ]
     },
     "execution_count": 4,
     "metadata": {},
     "output_type": "execute_result"
    }
   ],
   "source": [
    "# Generating a data frame with the number of players group by gender\n",
    "group_gender = raw.groupby('Gender')\n",
    "gender_demographics = pd.DataFrame(group_gender.nunique()['SN'])\n",
    "gender_demographics = gender_demographics.rename(columns = {'SN' : 'Total Count'})\n",
    "\n",
    "# Calculating the percentage of players by gender\n",
    "gender_demographics['Percentage of Players'] = (gender_demographics['Total Count']\n",
    "                                                .div(gender_demographics['Total Count'].sum()) * 100)\n",
    "\n",
    "# Sorting the number of players in descending order\n",
    "gender_demographics = gender_demographics.sort_values([\"Total Count\"], ascending = False)\n",
    "\n",
    "# Fisplaying the percentage as percent\n",
    "gender_demographics.style.format({'Percentage of Players' : '{:.2f}%'})"
   ]
  },
  {
   "cell_type": "markdown",
   "metadata": {},
   "source": [
    "## Purchasing Analysis (Gender)"
   ]
  },
  {
   "cell_type": "code",
   "execution_count": 5,
   "metadata": {},
   "outputs": [
    {
     "data": {
      "text/html": [
       "<style  type=\"text/css\" >\n",
       "</style>  \n",
       "<table id=\"T_5e85d540_34b4_11e9_816d_10c37b702c42\" > \n",
       "<thead>    <tr> \n",
       "        <th class=\"blank level0\" ></th> \n",
       "        <th class=\"col_heading level0 col0\" >Purchase Count</th> \n",
       "        <th class=\"col_heading level0 col1\" >Average Purchase Price</th> \n",
       "        <th class=\"col_heading level0 col2\" >Total Purchase Value</th> \n",
       "        <th class=\"col_heading level0 col3\" >Avg Total Purchase per Person</th> \n",
       "    </tr>    <tr> \n",
       "        <th class=\"index_name level0\" >Gender</th> \n",
       "        <th class=\"blank\" ></th> \n",
       "        <th class=\"blank\" ></th> \n",
       "        <th class=\"blank\" ></th> \n",
       "        <th class=\"blank\" ></th> \n",
       "    </tr></thead> \n",
       "<tbody>    <tr> \n",
       "        <th id=\"T_5e85d540_34b4_11e9_816d_10c37b702c42level0_row0\" class=\"row_heading level0 row0\" >Female</th> \n",
       "        <td id=\"T_5e85d540_34b4_11e9_816d_10c37b702c42row0_col0\" class=\"data row0 col0\" >113</td> \n",
       "        <td id=\"T_5e85d540_34b4_11e9_816d_10c37b702c42row0_col1\" class=\"data row0 col1\" >$3.20</td> \n",
       "        <td id=\"T_5e85d540_34b4_11e9_816d_10c37b702c42row0_col2\" class=\"data row0 col2\" >$361.94</td> \n",
       "        <td id=\"T_5e85d540_34b4_11e9_816d_10c37b702c42row0_col3\" class=\"data row0 col3\" >$4.47</td> \n",
       "    </tr>    <tr> \n",
       "        <th id=\"T_5e85d540_34b4_11e9_816d_10c37b702c42level0_row1\" class=\"row_heading level0 row1\" >Male</th> \n",
       "        <td id=\"T_5e85d540_34b4_11e9_816d_10c37b702c42row1_col0\" class=\"data row1 col0\" >652</td> \n",
       "        <td id=\"T_5e85d540_34b4_11e9_816d_10c37b702c42row1_col1\" class=\"data row1 col1\" >$3.02</td> \n",
       "        <td id=\"T_5e85d540_34b4_11e9_816d_10c37b702c42row1_col2\" class=\"data row1 col2\" >$1,967.64</td> \n",
       "        <td id=\"T_5e85d540_34b4_11e9_816d_10c37b702c42row1_col3\" class=\"data row1 col3\" >$4.07</td> \n",
       "    </tr>    <tr> \n",
       "        <th id=\"T_5e85d540_34b4_11e9_816d_10c37b702c42level0_row2\" class=\"row_heading level0 row2\" >Other / Non-Disclosed</th> \n",
       "        <td id=\"T_5e85d540_34b4_11e9_816d_10c37b702c42row2_col0\" class=\"data row2 col0\" >15</td> \n",
       "        <td id=\"T_5e85d540_34b4_11e9_816d_10c37b702c42row2_col1\" class=\"data row2 col1\" >$3.35</td> \n",
       "        <td id=\"T_5e85d540_34b4_11e9_816d_10c37b702c42row2_col2\" class=\"data row2 col2\" >$50.19</td> \n",
       "        <td id=\"T_5e85d540_34b4_11e9_816d_10c37b702c42row2_col3\" class=\"data row2 col3\" >$4.56</td> \n",
       "    </tr></tbody> \n",
       "</table> "
      ],
      "text/plain": [
       "<pandas.io.formats.style.Styler at 0x19e9e524d30>"
      ]
     },
     "execution_count": 5,
     "metadata": {},
     "output_type": "execute_result"
    }
   ],
   "source": [
    "# Generating a data frame with the number of purchases group by gender\n",
    "purchasing_analysis = pd.DataFrame(group_gender.count()['Item ID'])\n",
    "purchasing_analysis = purchasing_analysis.rename(columns = {'Item ID' : 'Purchase Count'})\n",
    "\n",
    "# Calculating the average purchase price by gender\n",
    "purchasing_analysis['Average Purchase Price'] = group_gender.mean()['Price']\n",
    "\n",
    "# Calculating the Average value of the purchases by gender\n",
    "purchasing_analysis['Total Purchase Value'] = group_gender.sum()['Price']\n",
    "\n",
    "# Calculating the average total purchase per person by gender\n",
    "purchasing_analysis['Avg Total Purchase per Person'] = (purchasing_analysis['Total Purchase Value'] /\n",
    "                                                        gender_demographics['Total Count'])\n",
    "\n",
    "#Displaying as currency\n",
    "purchasing_analysis.style.format({'Average Purchase Price' : '${:,.2f}', 'Total Purchase Value' : '${:,.2f}',\n",
    "                                 'Avg Total Purchase per Person' : '${:,.2f}'})"
   ]
  },
  {
   "cell_type": "markdown",
   "metadata": {},
   "source": [
    "## Age Demographics"
   ]
  },
  {
   "cell_type": "code",
   "execution_count": 6,
   "metadata": {
    "scrolled": true
   },
   "outputs": [
    {
     "data": {
      "text/html": [
       "<style  type=\"text/css\" >\n",
       "</style>  \n",
       "<table id=\"T_5e890950_34b4_11e9_9b43_10c37b702c42\" > \n",
       "<thead>    <tr> \n",
       "        <th class=\"blank level0\" ></th> \n",
       "        <th class=\"col_heading level0 col0\" >Total Count</th> \n",
       "        <th class=\"col_heading level0 col1\" >Percentage of Players</th> \n",
       "    </tr>    <tr> \n",
       "        <th class=\"index_name level0\" >Age Group</th> \n",
       "        <th class=\"blank\" ></th> \n",
       "        <th class=\"blank\" ></th> \n",
       "    </tr></thead> \n",
       "<tbody>    <tr> \n",
       "        <th id=\"T_5e890950_34b4_11e9_9b43_10c37b702c42level0_row0\" class=\"row_heading level0 row0\" ><10</th> \n",
       "        <td id=\"T_5e890950_34b4_11e9_9b43_10c37b702c42row0_col0\" class=\"data row0 col0\" >17</td> \n",
       "        <td id=\"T_5e890950_34b4_11e9_9b43_10c37b702c42row0_col1\" class=\"data row0 col1\" >2.95%</td> \n",
       "    </tr>    <tr> \n",
       "        <th id=\"T_5e890950_34b4_11e9_9b43_10c37b702c42level0_row1\" class=\"row_heading level0 row1\" >10-14</th> \n",
       "        <td id=\"T_5e890950_34b4_11e9_9b43_10c37b702c42row1_col0\" class=\"data row1 col0\" >22</td> \n",
       "        <td id=\"T_5e890950_34b4_11e9_9b43_10c37b702c42row1_col1\" class=\"data row1 col1\" >3.82%</td> \n",
       "    </tr>    <tr> \n",
       "        <th id=\"T_5e890950_34b4_11e9_9b43_10c37b702c42level0_row2\" class=\"row_heading level0 row2\" >15-19</th> \n",
       "        <td id=\"T_5e890950_34b4_11e9_9b43_10c37b702c42row2_col0\" class=\"data row2 col0\" >107</td> \n",
       "        <td id=\"T_5e890950_34b4_11e9_9b43_10c37b702c42row2_col1\" class=\"data row2 col1\" >18.58%</td> \n",
       "    </tr>    <tr> \n",
       "        <th id=\"T_5e890950_34b4_11e9_9b43_10c37b702c42level0_row3\" class=\"row_heading level0 row3\" >20-24</th> \n",
       "        <td id=\"T_5e890950_34b4_11e9_9b43_10c37b702c42row3_col0\" class=\"data row3 col0\" >258</td> \n",
       "        <td id=\"T_5e890950_34b4_11e9_9b43_10c37b702c42row3_col1\" class=\"data row3 col1\" >44.79%</td> \n",
       "    </tr>    <tr> \n",
       "        <th id=\"T_5e890950_34b4_11e9_9b43_10c37b702c42level0_row4\" class=\"row_heading level0 row4\" >25-29</th> \n",
       "        <td id=\"T_5e890950_34b4_11e9_9b43_10c37b702c42row4_col0\" class=\"data row4 col0\" >77</td> \n",
       "        <td id=\"T_5e890950_34b4_11e9_9b43_10c37b702c42row4_col1\" class=\"data row4 col1\" >13.37%</td> \n",
       "    </tr>    <tr> \n",
       "        <th id=\"T_5e890950_34b4_11e9_9b43_10c37b702c42level0_row5\" class=\"row_heading level0 row5\" >30-34</th> \n",
       "        <td id=\"T_5e890950_34b4_11e9_9b43_10c37b702c42row5_col0\" class=\"data row5 col0\" >52</td> \n",
       "        <td id=\"T_5e890950_34b4_11e9_9b43_10c37b702c42row5_col1\" class=\"data row5 col1\" >9.03%</td> \n",
       "    </tr>    <tr> \n",
       "        <th id=\"T_5e890950_34b4_11e9_9b43_10c37b702c42level0_row6\" class=\"row_heading level0 row6\" >35-39</th> \n",
       "        <td id=\"T_5e890950_34b4_11e9_9b43_10c37b702c42row6_col0\" class=\"data row6 col0\" >31</td> \n",
       "        <td id=\"T_5e890950_34b4_11e9_9b43_10c37b702c42row6_col1\" class=\"data row6 col1\" >5.38%</td> \n",
       "    </tr>    <tr> \n",
       "        <th id=\"T_5e890950_34b4_11e9_9b43_10c37b702c42level0_row7\" class=\"row_heading level0 row7\" >40+</th> \n",
       "        <td id=\"T_5e890950_34b4_11e9_9b43_10c37b702c42row7_col0\" class=\"data row7 col0\" >12</td> \n",
       "        <td id=\"T_5e890950_34b4_11e9_9b43_10c37b702c42row7_col1\" class=\"data row7 col1\" >2.08%</td> \n",
       "    </tr></tbody> \n",
       "</table> "
      ],
      "text/plain": [
       "<pandas.io.formats.style.Styler at 0x19e9e4fb390>"
      ]
     },
     "execution_count": 6,
     "metadata": {},
     "output_type": "execute_result"
    }
   ],
   "source": [
    "# Creating bins for age groups\n",
    "bin_age = [0, 10, 15, 20, 25, 30, 35, 40, 200]\n",
    "bin_label = ['<10', '10-14', '15-19', '20-24', '25-29', '30-34', '35-39', '40+']\n",
    "\n",
    "# Adding the age groups to the original data frame\n",
    "raw['Age Group'] = pd.cut(raw['Age'], bin_age, labels = bin_label, right = False)\n",
    "\n",
    "# Creating a data frame group by the age groups\n",
    "group_age = raw.groupby('Age Group')\n",
    "\n",
    "# Generating a new data frame counting the number of unique players\n",
    "age_demographics = pd.DataFrame(group_age.nunique()['SN'])\n",
    "\n",
    "# Renaming the columns to Total Count\n",
    "age_demographics = age_demographics.rename(columns = {'SN' : 'Total Count'})\n",
    "\n",
    "# Calculating the percentage of players in each age group\n",
    "age_demographics['Percentage of Players'] = (age_demographics['Total Count'] / age_demographics['Total Count'].sum() * 100)\n",
    "\n",
    "# Displaying as percentage\n",
    "age_demographics.style.format({'Percentage of Players' : '{:.2f}%'})"
   ]
  },
  {
   "cell_type": "markdown",
   "metadata": {},
   "source": [
    "## Purchasing Analysis (Age)"
   ]
  },
  {
   "cell_type": "code",
   "execution_count": 7,
   "metadata": {},
   "outputs": [
    {
     "data": {
      "text/html": [
       "<style  type=\"text/css\" >\n",
       "</style>  \n",
       "<table id=\"T_5e8c1652_34b4_11e9_9d4e_10c37b702c42\" > \n",
       "<thead>    <tr> \n",
       "        <th class=\"blank level0\" ></th> \n",
       "        <th class=\"col_heading level0 col0\" >Purchase Count</th> \n",
       "        <th class=\"col_heading level0 col1\" >Average Purchase Price</th> \n",
       "        <th class=\"col_heading level0 col2\" >Total Purchase Value</th> \n",
       "        <th class=\"col_heading level0 col3\" >Avg Total Purchase per Person</th> \n",
       "    </tr>    <tr> \n",
       "        <th class=\"index_name level0\" >Age Group</th> \n",
       "        <th class=\"blank\" ></th> \n",
       "        <th class=\"blank\" ></th> \n",
       "        <th class=\"blank\" ></th> \n",
       "        <th class=\"blank\" ></th> \n",
       "    </tr></thead> \n",
       "<tbody>    <tr> \n",
       "        <th id=\"T_5e8c1652_34b4_11e9_9d4e_10c37b702c42level0_row0\" class=\"row_heading level0 row0\" ><10</th> \n",
       "        <td id=\"T_5e8c1652_34b4_11e9_9d4e_10c37b702c42row0_col0\" class=\"data row0 col0\" >23</td> \n",
       "        <td id=\"T_5e8c1652_34b4_11e9_9d4e_10c37b702c42row0_col1\" class=\"data row0 col1\" >$3.35</td> \n",
       "        <td id=\"T_5e8c1652_34b4_11e9_9d4e_10c37b702c42row0_col2\" class=\"data row0 col2\" >$77.13</td> \n",
       "        <td id=\"T_5e8c1652_34b4_11e9_9d4e_10c37b702c42row0_col3\" class=\"data row0 col3\" >$4.54</td> \n",
       "    </tr>    <tr> \n",
       "        <th id=\"T_5e8c1652_34b4_11e9_9d4e_10c37b702c42level0_row1\" class=\"row_heading level0 row1\" >10-14</th> \n",
       "        <td id=\"T_5e8c1652_34b4_11e9_9d4e_10c37b702c42row1_col0\" class=\"data row1 col0\" >28</td> \n",
       "        <td id=\"T_5e8c1652_34b4_11e9_9d4e_10c37b702c42row1_col1\" class=\"data row1 col1\" >$2.96</td> \n",
       "        <td id=\"T_5e8c1652_34b4_11e9_9d4e_10c37b702c42row1_col2\" class=\"data row1 col2\" >$82.78</td> \n",
       "        <td id=\"T_5e8c1652_34b4_11e9_9d4e_10c37b702c42row1_col3\" class=\"data row1 col3\" >$3.76</td> \n",
       "    </tr>    <tr> \n",
       "        <th id=\"T_5e8c1652_34b4_11e9_9d4e_10c37b702c42level0_row2\" class=\"row_heading level0 row2\" >15-19</th> \n",
       "        <td id=\"T_5e8c1652_34b4_11e9_9d4e_10c37b702c42row2_col0\" class=\"data row2 col0\" >136</td> \n",
       "        <td id=\"T_5e8c1652_34b4_11e9_9d4e_10c37b702c42row2_col1\" class=\"data row2 col1\" >$3.04</td> \n",
       "        <td id=\"T_5e8c1652_34b4_11e9_9d4e_10c37b702c42row2_col2\" class=\"data row2 col2\" >$412.89</td> \n",
       "        <td id=\"T_5e8c1652_34b4_11e9_9d4e_10c37b702c42row2_col3\" class=\"data row2 col3\" >$3.86</td> \n",
       "    </tr>    <tr> \n",
       "        <th id=\"T_5e8c1652_34b4_11e9_9d4e_10c37b702c42level0_row3\" class=\"row_heading level0 row3\" >20-24</th> \n",
       "        <td id=\"T_5e8c1652_34b4_11e9_9d4e_10c37b702c42row3_col0\" class=\"data row3 col0\" >365</td> \n",
       "        <td id=\"T_5e8c1652_34b4_11e9_9d4e_10c37b702c42row3_col1\" class=\"data row3 col1\" >$3.05</td> \n",
       "        <td id=\"T_5e8c1652_34b4_11e9_9d4e_10c37b702c42row3_col2\" class=\"data row3 col2\" >$1,114.06</td> \n",
       "        <td id=\"T_5e8c1652_34b4_11e9_9d4e_10c37b702c42row3_col3\" class=\"data row3 col3\" >$4.32</td> \n",
       "    </tr>    <tr> \n",
       "        <th id=\"T_5e8c1652_34b4_11e9_9d4e_10c37b702c42level0_row4\" class=\"row_heading level0 row4\" >25-29</th> \n",
       "        <td id=\"T_5e8c1652_34b4_11e9_9d4e_10c37b702c42row4_col0\" class=\"data row4 col0\" >101</td> \n",
       "        <td id=\"T_5e8c1652_34b4_11e9_9d4e_10c37b702c42row4_col1\" class=\"data row4 col1\" >$2.90</td> \n",
       "        <td id=\"T_5e8c1652_34b4_11e9_9d4e_10c37b702c42row4_col2\" class=\"data row4 col2\" >$293.00</td> \n",
       "        <td id=\"T_5e8c1652_34b4_11e9_9d4e_10c37b702c42row4_col3\" class=\"data row4 col3\" >$3.81</td> \n",
       "    </tr>    <tr> \n",
       "        <th id=\"T_5e8c1652_34b4_11e9_9d4e_10c37b702c42level0_row5\" class=\"row_heading level0 row5\" >30-34</th> \n",
       "        <td id=\"T_5e8c1652_34b4_11e9_9d4e_10c37b702c42row5_col0\" class=\"data row5 col0\" >73</td> \n",
       "        <td id=\"T_5e8c1652_34b4_11e9_9d4e_10c37b702c42row5_col1\" class=\"data row5 col1\" >$2.93</td> \n",
       "        <td id=\"T_5e8c1652_34b4_11e9_9d4e_10c37b702c42row5_col2\" class=\"data row5 col2\" >$214.00</td> \n",
       "        <td id=\"T_5e8c1652_34b4_11e9_9d4e_10c37b702c42row5_col3\" class=\"data row5 col3\" >$4.12</td> \n",
       "    </tr>    <tr> \n",
       "        <th id=\"T_5e8c1652_34b4_11e9_9d4e_10c37b702c42level0_row6\" class=\"row_heading level0 row6\" >35-39</th> \n",
       "        <td id=\"T_5e8c1652_34b4_11e9_9d4e_10c37b702c42row6_col0\" class=\"data row6 col0\" >41</td> \n",
       "        <td id=\"T_5e8c1652_34b4_11e9_9d4e_10c37b702c42row6_col1\" class=\"data row6 col1\" >$3.60</td> \n",
       "        <td id=\"T_5e8c1652_34b4_11e9_9d4e_10c37b702c42row6_col2\" class=\"data row6 col2\" >$147.67</td> \n",
       "        <td id=\"T_5e8c1652_34b4_11e9_9d4e_10c37b702c42row6_col3\" class=\"data row6 col3\" >$4.76</td> \n",
       "    </tr>    <tr> \n",
       "        <th id=\"T_5e8c1652_34b4_11e9_9d4e_10c37b702c42level0_row7\" class=\"row_heading level0 row7\" >40+</th> \n",
       "        <td id=\"T_5e8c1652_34b4_11e9_9d4e_10c37b702c42row7_col0\" class=\"data row7 col0\" >13</td> \n",
       "        <td id=\"T_5e8c1652_34b4_11e9_9d4e_10c37b702c42row7_col1\" class=\"data row7 col1\" >$2.94</td> \n",
       "        <td id=\"T_5e8c1652_34b4_11e9_9d4e_10c37b702c42row7_col2\" class=\"data row7 col2\" >$38.24</td> \n",
       "        <td id=\"T_5e8c1652_34b4_11e9_9d4e_10c37b702c42row7_col3\" class=\"data row7 col3\" >$3.19</td> \n",
       "    </tr></tbody> \n",
       "</table> "
      ],
      "text/plain": [
       "<pandas.io.formats.style.Styler at 0x19e9e530dd8>"
      ]
     },
     "execution_count": 7,
     "metadata": {},
     "output_type": "execute_result"
    }
   ],
   "source": [
    "# Generating initial data frame with purchase count\n",
    "purchasing_analysis_age = pd.DataFrame(group_age.count()['Item ID'])\n",
    "purchasing_analysis_age = purchasing_analysis_age.rename(columns = {'Item ID' : 'Purchase Count'})\n",
    "\n",
    "# Calculating the Average Purchase Price\n",
    "purchasing_analysis_age['Average Purchase Price'] = group_age.mean()['Price']\n",
    "\n",
    "# Calculating total purchase value\n",
    "purchasing_analysis_age['Total Purchase Value'] = group_age.sum()['Price']\n",
    "\n",
    "# Calculating average total purchase per person\n",
    "purchasing_analysis_age['Avg Total Purchase per Person'] = (purchasing_analysis_age['Total Purchase Value'] /\n",
    "                                                            age_demographics['Total Count'])\n",
    "\n",
    "# Displaying as currency\n",
    "purchasing_analysis_age.style.format({'Average Purchase Price' : '${:,.2f}', 'Total Purchase Value' : '${:,.2f}',\n",
    "                                      'Avg Total Purchase per Person' : '${:,.2f}'})"
   ]
  },
  {
   "cell_type": "markdown",
   "metadata": {},
   "source": [
    "## Top Spendors"
   ]
  },
  {
   "cell_type": "code",
   "execution_count": 8,
   "metadata": {},
   "outputs": [
    {
     "data": {
      "text/html": [
       "<style  type=\"text/css\" >\n",
       "</style>  \n",
       "<table id=\"T_5e8f2352_34b4_11e9_bcbe_10c37b702c42\" > \n",
       "<thead>    <tr> \n",
       "        <th class=\"blank level0\" ></th> \n",
       "        <th class=\"col_heading level0 col0\" >Purchase Count</th> \n",
       "        <th class=\"col_heading level0 col1\" >Average Purchase Price</th> \n",
       "        <th class=\"col_heading level0 col2\" >Total Purchase Value</th> \n",
       "    </tr>    <tr> \n",
       "        <th class=\"index_name level0\" >SN</th> \n",
       "        <th class=\"blank\" ></th> \n",
       "        <th class=\"blank\" ></th> \n",
       "        <th class=\"blank\" ></th> \n",
       "    </tr></thead> \n",
       "<tbody>    <tr> \n",
       "        <th id=\"T_5e8f2352_34b4_11e9_bcbe_10c37b702c42level0_row0\" class=\"row_heading level0 row0\" >Lisosia93</th> \n",
       "        <td id=\"T_5e8f2352_34b4_11e9_bcbe_10c37b702c42row0_col0\" class=\"data row0 col0\" >5</td> \n",
       "        <td id=\"T_5e8f2352_34b4_11e9_bcbe_10c37b702c42row0_col1\" class=\"data row0 col1\" >$3.79</td> \n",
       "        <td id=\"T_5e8f2352_34b4_11e9_bcbe_10c37b702c42row0_col2\" class=\"data row0 col2\" >$18.96</td> \n",
       "    </tr>    <tr> \n",
       "        <th id=\"T_5e8f2352_34b4_11e9_bcbe_10c37b702c42level0_row1\" class=\"row_heading level0 row1\" >Idastidru52</th> \n",
       "        <td id=\"T_5e8f2352_34b4_11e9_bcbe_10c37b702c42row1_col0\" class=\"data row1 col0\" >4</td> \n",
       "        <td id=\"T_5e8f2352_34b4_11e9_bcbe_10c37b702c42row1_col1\" class=\"data row1 col1\" >$3.86</td> \n",
       "        <td id=\"T_5e8f2352_34b4_11e9_bcbe_10c37b702c42row1_col2\" class=\"data row1 col2\" >$15.45</td> \n",
       "    </tr>    <tr> \n",
       "        <th id=\"T_5e8f2352_34b4_11e9_bcbe_10c37b702c42level0_row2\" class=\"row_heading level0 row2\" >Chamjask73</th> \n",
       "        <td id=\"T_5e8f2352_34b4_11e9_bcbe_10c37b702c42row2_col0\" class=\"data row2 col0\" >3</td> \n",
       "        <td id=\"T_5e8f2352_34b4_11e9_bcbe_10c37b702c42row2_col1\" class=\"data row2 col1\" >$4.61</td> \n",
       "        <td id=\"T_5e8f2352_34b4_11e9_bcbe_10c37b702c42row2_col2\" class=\"data row2 col2\" >$13.83</td> \n",
       "    </tr>    <tr> \n",
       "        <th id=\"T_5e8f2352_34b4_11e9_bcbe_10c37b702c42level0_row3\" class=\"row_heading level0 row3\" >Iral74</th> \n",
       "        <td id=\"T_5e8f2352_34b4_11e9_bcbe_10c37b702c42row3_col0\" class=\"data row3 col0\" >4</td> \n",
       "        <td id=\"T_5e8f2352_34b4_11e9_bcbe_10c37b702c42row3_col1\" class=\"data row3 col1\" >$3.40</td> \n",
       "        <td id=\"T_5e8f2352_34b4_11e9_bcbe_10c37b702c42row3_col2\" class=\"data row3 col2\" >$13.62</td> \n",
       "    </tr>    <tr> \n",
       "        <th id=\"T_5e8f2352_34b4_11e9_bcbe_10c37b702c42level0_row4\" class=\"row_heading level0 row4\" >Iskadarya95</th> \n",
       "        <td id=\"T_5e8f2352_34b4_11e9_bcbe_10c37b702c42row4_col0\" class=\"data row4 col0\" >3</td> \n",
       "        <td id=\"T_5e8f2352_34b4_11e9_bcbe_10c37b702c42row4_col1\" class=\"data row4 col1\" >$4.37</td> \n",
       "        <td id=\"T_5e8f2352_34b4_11e9_bcbe_10c37b702c42row4_col2\" class=\"data row4 col2\" >$13.10</td> \n",
       "    </tr></tbody> \n",
       "</table> "
      ],
      "text/plain": [
       "<pandas.io.formats.style.Styler at 0x19e9e540b70>"
      ]
     },
     "execution_count": 8,
     "metadata": {},
     "output_type": "execute_result"
    }
   ],
   "source": [
    "# Generating a df group by SN with the Purchase Count\n",
    "group_sn = raw.groupby('SN')\n",
    "top_spendors = pd.DataFrame(group_sn.count()['Purchase ID'])\n",
    "top_spendors = top_spendors.rename(columns = {'Purchase ID' : 'Purchase Count'})\n",
    "\n",
    "# Calculating the Average Purchase Price\n",
    "top_spendors['Average Purchase Price'] = group_sn.mean()['Price']\n",
    "\n",
    "# Calculating the Total Purchase Value\n",
    "top_spendors['Total Purchase Value'] = group_sn.sum()['Price']\n",
    "\n",
    "# Sorting the table by the Total Purchase Value and taking top 5\n",
    "top_5_spendors = top_spendors.sort_values('Total Purchase Value', ascending = False).head()\n",
    "\n",
    "# Displaying as currency\n",
    "top_5_spendors.style.format({'Average Purchase Price' : '${:,.2f}', 'Total Purchase Value' : '${:,.2f}'})"
   ]
  },
  {
   "cell_type": "markdown",
   "metadata": {},
   "source": [
    "## Most Popular Items"
   ]
  },
  {
   "cell_type": "code",
   "execution_count": 9,
   "metadata": {},
   "outputs": [
    {
     "data": {
      "text/html": [
       "<style  type=\"text/css\" >\n",
       "</style>  \n",
       "<table id=\"T_5e92a57a_34b4_11e9_9026_10c37b702c42\" > \n",
       "<thead>    <tr> \n",
       "        <th class=\"blank\" ></th> \n",
       "        <th class=\"blank level0\" ></th> \n",
       "        <th class=\"col_heading level0 col0\" >Purchase Count</th> \n",
       "        <th class=\"col_heading level0 col1\" >Item Price</th> \n",
       "        <th class=\"col_heading level0 col2\" >Total Purchase Value</th> \n",
       "    </tr>    <tr> \n",
       "        <th class=\"index_name level0\" >Item ID</th> \n",
       "        <th class=\"index_name level1\" >Item Name</th> \n",
       "        <th class=\"blank\" ></th> \n",
       "        <th class=\"blank\" ></th> \n",
       "        <th class=\"blank\" ></th> \n",
       "    </tr></thead> \n",
       "<tbody>    <tr> \n",
       "        <th id=\"T_5e92a57a_34b4_11e9_9026_10c37b702c42level0_row0\" class=\"row_heading level0 row0\" >178</th> \n",
       "        <th id=\"T_5e92a57a_34b4_11e9_9026_10c37b702c42level1_row0\" class=\"row_heading level1 row0\" >Oathbreaker, Last Hope of the Breaking Storm</th> \n",
       "        <td id=\"T_5e92a57a_34b4_11e9_9026_10c37b702c42row0_col0\" class=\"data row0 col0\" >12</td> \n",
       "        <td id=\"T_5e92a57a_34b4_11e9_9026_10c37b702c42row0_col1\" class=\"data row0 col1\" >$4.23</td> \n",
       "        <td id=\"T_5e92a57a_34b4_11e9_9026_10c37b702c42row0_col2\" class=\"data row0 col2\" >$50.76</td> \n",
       "    </tr>    <tr> \n",
       "        <th id=\"T_5e92a57a_34b4_11e9_9026_10c37b702c42level0_row1\" class=\"row_heading level0 row1\" >145</th> \n",
       "        <th id=\"T_5e92a57a_34b4_11e9_9026_10c37b702c42level1_row1\" class=\"row_heading level1 row1\" >Fiery Glass Crusader</th> \n",
       "        <td id=\"T_5e92a57a_34b4_11e9_9026_10c37b702c42row1_col0\" class=\"data row1 col0\" >9</td> \n",
       "        <td id=\"T_5e92a57a_34b4_11e9_9026_10c37b702c42row1_col1\" class=\"data row1 col1\" >$4.58</td> \n",
       "        <td id=\"T_5e92a57a_34b4_11e9_9026_10c37b702c42row1_col2\" class=\"data row1 col2\" >$41.22</td> \n",
       "    </tr>    <tr> \n",
       "        <th id=\"T_5e92a57a_34b4_11e9_9026_10c37b702c42level0_row2\" class=\"row_heading level0 row2\" >108</th> \n",
       "        <th id=\"T_5e92a57a_34b4_11e9_9026_10c37b702c42level1_row2\" class=\"row_heading level1 row2\" >Extraction, Quickblade Of Trembling Hands</th> \n",
       "        <td id=\"T_5e92a57a_34b4_11e9_9026_10c37b702c42row2_col0\" class=\"data row2 col0\" >9</td> \n",
       "        <td id=\"T_5e92a57a_34b4_11e9_9026_10c37b702c42row2_col1\" class=\"data row2 col1\" >$3.53</td> \n",
       "        <td id=\"T_5e92a57a_34b4_11e9_9026_10c37b702c42row2_col2\" class=\"data row2 col2\" >$31.77</td> \n",
       "    </tr>    <tr> \n",
       "        <th id=\"T_5e92a57a_34b4_11e9_9026_10c37b702c42level0_row3\" class=\"row_heading level0 row3\" >82</th> \n",
       "        <th id=\"T_5e92a57a_34b4_11e9_9026_10c37b702c42level1_row3\" class=\"row_heading level1 row3\" >Nirvana</th> \n",
       "        <td id=\"T_5e92a57a_34b4_11e9_9026_10c37b702c42row3_col0\" class=\"data row3 col0\" >9</td> \n",
       "        <td id=\"T_5e92a57a_34b4_11e9_9026_10c37b702c42row3_col1\" class=\"data row3 col1\" >$4.90</td> \n",
       "        <td id=\"T_5e92a57a_34b4_11e9_9026_10c37b702c42row3_col2\" class=\"data row3 col2\" >$44.10</td> \n",
       "    </tr>    <tr> \n",
       "        <th id=\"T_5e92a57a_34b4_11e9_9026_10c37b702c42level0_row4\" class=\"row_heading level0 row4\" >19</th> \n",
       "        <th id=\"T_5e92a57a_34b4_11e9_9026_10c37b702c42level1_row4\" class=\"row_heading level1 row4\" >Pursuit, Cudgel of Necromancy</th> \n",
       "        <td id=\"T_5e92a57a_34b4_11e9_9026_10c37b702c42row4_col0\" class=\"data row4 col0\" >8</td> \n",
       "        <td id=\"T_5e92a57a_34b4_11e9_9026_10c37b702c42row4_col1\" class=\"data row4 col1\" >$1.02</td> \n",
       "        <td id=\"T_5e92a57a_34b4_11e9_9026_10c37b702c42row4_col2\" class=\"data row4 col2\" >$8.16</td> \n",
       "    </tr></tbody> \n",
       "</table> "
      ],
      "text/plain": [
       "<pandas.io.formats.style.Styler at 0x19e9e540358>"
      ]
     },
     "execution_count": 9,
     "metadata": {},
     "output_type": "execute_result"
    }
   ],
   "source": [
    "# Create new DF with the Item Id and name\n",
    "group_item = raw.groupby(['Item ID', 'Item Name'])\n",
    "popular_item = pd.DataFrame(group_item.nunique()['Purchase ID'])\n",
    "\n",
    "# Rename to Purchase Count\n",
    "popular_item = popular_item.rename(columns = {'Purchase ID' : 'Purchase Count'})\n",
    "\n",
    "# Add Item Price columns\n",
    "popular_item['Item Price'] = group_item.sum()['Price'] / popular_item['Purchase Count']\n",
    "\n",
    "# Calculate Total Purchase Value\n",
    "popular_item['Total Purchase Value'] = popular_item['Purchase Count'] * popular_item['Item Price']\n",
    "\n",
    "# Sorting based on Total Purchase Value taking top 5\n",
    "popular_item_5 = popular_item.sort_values('Purchase Count', ascending = False).head()\n",
    "\n",
    "# Displaying as currency\n",
    "popular_item_5.style.format({'Item Price' : '${:,.2f}', 'Total Purchase Value' : '${:,.2f}'})"
   ]
  },
  {
   "cell_type": "code",
   "execution_count": 10,
   "metadata": {},
   "outputs": [
    {
     "data": {
      "text/html": [
       "<style  type=\"text/css\" >\n",
       "</style>  \n",
       "<table id=\"T_5e942bfa_34b4_11e9_8075_10c37b702c42\" > \n",
       "<thead>    <tr> \n",
       "        <th class=\"blank\" ></th> \n",
       "        <th class=\"blank level0\" ></th> \n",
       "        <th class=\"col_heading level0 col0\" >Purchase Count</th> \n",
       "        <th class=\"col_heading level0 col1\" >Item Price</th> \n",
       "        <th class=\"col_heading level0 col2\" >Total Purchase Value</th> \n",
       "    </tr>    <tr> \n",
       "        <th class=\"index_name level0\" >Item ID</th> \n",
       "        <th class=\"index_name level1\" >Item Name</th> \n",
       "        <th class=\"blank\" ></th> \n",
       "        <th class=\"blank\" ></th> \n",
       "        <th class=\"blank\" ></th> \n",
       "    </tr></thead> \n",
       "<tbody>    <tr> \n",
       "        <th id=\"T_5e942bfa_34b4_11e9_8075_10c37b702c42level0_row0\" class=\"row_heading level0 row0\" >178</th> \n",
       "        <th id=\"T_5e942bfa_34b4_11e9_8075_10c37b702c42level1_row0\" class=\"row_heading level1 row0\" >Oathbreaker, Last Hope of the Breaking Storm</th> \n",
       "        <td id=\"T_5e942bfa_34b4_11e9_8075_10c37b702c42row0_col0\" class=\"data row0 col0\" >12</td> \n",
       "        <td id=\"T_5e942bfa_34b4_11e9_8075_10c37b702c42row0_col1\" class=\"data row0 col1\" >$4.23</td> \n",
       "        <td id=\"T_5e942bfa_34b4_11e9_8075_10c37b702c42row0_col2\" class=\"data row0 col2\" >$50.76</td> \n",
       "    </tr>    <tr> \n",
       "        <th id=\"T_5e942bfa_34b4_11e9_8075_10c37b702c42level0_row1\" class=\"row_heading level0 row1\" >82</th> \n",
       "        <th id=\"T_5e942bfa_34b4_11e9_8075_10c37b702c42level1_row1\" class=\"row_heading level1 row1\" >Nirvana</th> \n",
       "        <td id=\"T_5e942bfa_34b4_11e9_8075_10c37b702c42row1_col0\" class=\"data row1 col0\" >9</td> \n",
       "        <td id=\"T_5e942bfa_34b4_11e9_8075_10c37b702c42row1_col1\" class=\"data row1 col1\" >$4.90</td> \n",
       "        <td id=\"T_5e942bfa_34b4_11e9_8075_10c37b702c42row1_col2\" class=\"data row1 col2\" >$44.10</td> \n",
       "    </tr>    <tr> \n",
       "        <th id=\"T_5e942bfa_34b4_11e9_8075_10c37b702c42level0_row2\" class=\"row_heading level0 row2\" >145</th> \n",
       "        <th id=\"T_5e942bfa_34b4_11e9_8075_10c37b702c42level1_row2\" class=\"row_heading level1 row2\" >Fiery Glass Crusader</th> \n",
       "        <td id=\"T_5e942bfa_34b4_11e9_8075_10c37b702c42row2_col0\" class=\"data row2 col0\" >9</td> \n",
       "        <td id=\"T_5e942bfa_34b4_11e9_8075_10c37b702c42row2_col1\" class=\"data row2 col1\" >$4.58</td> \n",
       "        <td id=\"T_5e942bfa_34b4_11e9_8075_10c37b702c42row2_col2\" class=\"data row2 col2\" >$41.22</td> \n",
       "    </tr>    <tr> \n",
       "        <th id=\"T_5e942bfa_34b4_11e9_8075_10c37b702c42level0_row3\" class=\"row_heading level0 row3\" >92</th> \n",
       "        <th id=\"T_5e942bfa_34b4_11e9_8075_10c37b702c42level1_row3\" class=\"row_heading level1 row3\" >Final Critic</th> \n",
       "        <td id=\"T_5e942bfa_34b4_11e9_8075_10c37b702c42row3_col0\" class=\"data row3 col0\" >8</td> \n",
       "        <td id=\"T_5e942bfa_34b4_11e9_8075_10c37b702c42row3_col1\" class=\"data row3 col1\" >$4.88</td> \n",
       "        <td id=\"T_5e942bfa_34b4_11e9_8075_10c37b702c42row3_col2\" class=\"data row3 col2\" >$39.04</td> \n",
       "    </tr>    <tr> \n",
       "        <th id=\"T_5e942bfa_34b4_11e9_8075_10c37b702c42level0_row4\" class=\"row_heading level0 row4\" >103</th> \n",
       "        <th id=\"T_5e942bfa_34b4_11e9_8075_10c37b702c42level1_row4\" class=\"row_heading level1 row4\" >Singed Scalpel</th> \n",
       "        <td id=\"T_5e942bfa_34b4_11e9_8075_10c37b702c42row4_col0\" class=\"data row4 col0\" >8</td> \n",
       "        <td id=\"T_5e942bfa_34b4_11e9_8075_10c37b702c42row4_col1\" class=\"data row4 col1\" >$4.35</td> \n",
       "        <td id=\"T_5e942bfa_34b4_11e9_8075_10c37b702c42row4_col2\" class=\"data row4 col2\" >$34.80</td> \n",
       "    </tr></tbody> \n",
       "</table> "
      ],
      "text/plain": [
       "<pandas.io.formats.style.Styler at 0x19e9e530550>"
      ]
     },
     "execution_count": 10,
     "metadata": {},
     "output_type": "execute_result"
    }
   ],
   "source": [
    "# Copying df\n",
    "profitable_items = popular_item\n",
    "\n",
    "# Sorting based on Total Purchase Value taking top 5\n",
    "profitable_items_5 = profitable_items.sort_values('Total Purchase Value', ascending = False).head()\n",
    "\n",
    "# Displaying as currency\n",
    "profitable_items_5.style.format({'Item Price' : '${:,.2f}', 'Total Purchase Value' : '${:,.2f}'})"
   ]
  },
  {
   "cell_type": "code",
   "execution_count": null,
   "metadata": {},
   "outputs": [],
   "source": []
  }
 ],
 "metadata": {
  "kernelspec": {
   "display_name": "Python 3",
   "language": "python",
   "name": "python3"
  },
  "language_info": {
   "codemirror_mode": {
    "name": "ipython",
    "version": 3
   },
   "file_extension": ".py",
   "mimetype": "text/x-python",
   "name": "python",
   "nbconvert_exporter": "python",
   "pygments_lexer": "ipython3",
   "version": "3.7.1"
  }
 },
 "nbformat": 4,
 "nbformat_minor": 2
}
