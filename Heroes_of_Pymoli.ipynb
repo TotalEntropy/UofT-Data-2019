{
 "cells": [
  {
   "cell_type": "code",
   "execution_count": 1,
   "metadata": {},
   "outputs": [],
   "source": [
    "# Dependencies and Setup\n",
    "import pandas as pd\n",
    "import numpy as np\n",
    "\n",
    "# File to Load (Remember to Change These)\n",
    "csv_file = \"Resources/purchase_data.csv\"\n",
    "\n",
    "# Read Purchasing File and store into Pandas data frame\n",
    "purchase_data = pd.read_csv(csv_file)\n",
    "raw = pd.read_csv(csv_file)"
   ]
  },
  {
   "cell_type": "code",
   "execution_count": 7,
   "metadata": {},
   "outputs": [],
   "source": [
    "# Head for reference\n",
    "#raw.head()"
   ]
  },
  {
   "cell_type": "markdown",
   "metadata": {},
   "source": [
    "# Player Count"
   ]
  },
  {
   "cell_type": "code",
   "execution_count": 3,
   "metadata": {
    "scrolled": true
   },
   "outputs": [],
   "source": [
    "# Counting the number of unique SN assumed to be ID names\n",
    "player_count = pd.DataFrame(data = {'Total Number of Players' : raw['SN'].nunique()}, index = [0])\n",
    "#player_count.head()"
   ]
  },
  {
   "cell_type": "markdown",
   "metadata": {},
   "source": [
    "# Purchasing Analysis"
   ]
  },
  {
   "cell_type": "code",
   "execution_count": 4,
   "metadata": {},
   "outputs": [],
   "source": [
    "# Counting the unique number of item IDs\n",
    "purchase_analysis = pd.DataFrame(data = {'Number of Unique Items' : raw['Item ID'].nunique()}, index = [0])\n",
    "\n",
    "# Taking the mean of the item purchase price\n",
    "purchase_analysis['Average Purchase Price'] = raw['Price'].mean()\n",
    "\n",
    "#Changing the format to be currency\n",
    "purchase_analysis['Average Purchase Price'] = purchase_analysis['Average Purchase Price'].map('${:.2f}'.format)\n",
    "\n",
    "# Calculating the number of unique purchases\n",
    "purchase_analysis['Total Number of Purchases'] = raw['Purchase ID'].nunique()\n",
    "\n",
    "#Calculating the sum of all of the purchases\n",
    "purchase_analysis['Total Revenue'] = raw['Price'].sum()\n",
    "\n",
    "# Changing the price to be \n",
    "purchase_analysis['Total Revenue'] = purchase_analysis['Total Revenue'].map('${:,.2f}'.format)\n",
    "#purchase_analysis.head()"
   ]
  },
  {
   "cell_type": "markdown",
   "metadata": {},
   "source": [
    "# Gender Demographics"
   ]
  },
  {
   "cell_type": "markdown",
   "metadata": {},
   "source": [
    "# Purchasing Analysis (Gender)"
   ]
  },
  {
   "cell_type": "code",
   "execution_count": 5,
   "metadata": {},
   "outputs": [
    {
     "data": {
      "text/html": [
       "<div>\n",
       "<style scoped>\n",
       "    .dataframe tbody tr th:only-of-type {\n",
       "        vertical-align: middle;\n",
       "    }\n",
       "\n",
       "    .dataframe tbody tr th {\n",
       "        vertical-align: top;\n",
       "    }\n",
       "\n",
       "    .dataframe thead th {\n",
       "        text-align: right;\n",
       "    }\n",
       "</style>\n",
       "<table border=\"1\" class=\"dataframe\">\n",
       "  <thead>\n",
       "    <tr style=\"text-align: right;\">\n",
       "      <th></th>\n",
       "      <th>Total Count</th>\n",
       "      <th>Percentage of Players</th>\n",
       "    </tr>\n",
       "    <tr>\n",
       "      <th>Gender</th>\n",
       "      <th></th>\n",
       "      <th></th>\n",
       "    </tr>\n",
       "  </thead>\n",
       "  <tbody>\n",
       "    <tr>\n",
       "      <th>Male</th>\n",
       "      <td>484</td>\n",
       "      <td>84.03%</td>\n",
       "    </tr>\n",
       "    <tr>\n",
       "      <th>Female</th>\n",
       "      <td>81</td>\n",
       "      <td>14.06%</td>\n",
       "    </tr>\n",
       "    <tr>\n",
       "      <th>Other / Non-Disclosed</th>\n",
       "      <td>11</td>\n",
       "      <td>1.91%</td>\n",
       "    </tr>\n",
       "  </tbody>\n",
       "</table>\n",
       "</div>"
      ],
      "text/plain": [
       "                       Total Count Percentage of Players\n",
       "Gender                                                  \n",
       "Male                           484                84.03%\n",
       "Female                          81                14.06%\n",
       "Other / Non-Disclosed           11                 1.91%"
      ]
     },
     "execution_count": 5,
     "metadata": {},
     "output_type": "execute_result"
    }
   ],
   "source": [
    "# Generating a data frame with the number of players grouped by gender\n",
    "gender_demographics_raw = raw.groupby('Gender')\n",
    "gender_demographics = pd.DataFrame(gender_demographics_raw.nunique()['SN'])\n",
    "gender_demographics = gender_demographics.rename(columns = {'SN' : 'Total Count'})\n",
    "\n",
    "# Calculating the percentage of players by gender\n",
    "gender_demographics['Percentage of Players'] = gender_demographics['Total Count'].div(gender_demographics['Total Count'].sum())*100\n",
    "gender_demographics['Percentage of Players'] = gender_demographics['Percentage of Players'].map('{:.2f}%'.format)\n",
    "\n",
    "# Sorting the number of players in descending order\n",
    "gender_demographics = gender_demographics.sort_values([\"Total Count\"], ascending = False)\n",
    "#gender_demographics.head()"
   ]
  },
  {
   "cell_type": "code",
   "execution_count": 6,
   "metadata": {},
   "outputs": [
    {
     "data": {
      "text/html": [
       "<div>\n",
       "<style scoped>\n",
       "    .dataframe tbody tr th:only-of-type {\n",
       "        vertical-align: middle;\n",
       "    }\n",
       "\n",
       "    .dataframe tbody tr th {\n",
       "        vertical-align: top;\n",
       "    }\n",
       "\n",
       "    .dataframe thead th {\n",
       "        text-align: right;\n",
       "    }\n",
       "</style>\n",
       "<table border=\"1\" class=\"dataframe\">\n",
       "  <thead>\n",
       "    <tr style=\"text-align: right;\">\n",
       "      <th></th>\n",
       "      <th>Purchase Count</th>\n",
       "      <th>Average Purchase Price</th>\n",
       "      <th>Total Purchase Value</th>\n",
       "    </tr>\n",
       "    <tr>\n",
       "      <th>Gender</th>\n",
       "      <th></th>\n",
       "      <th></th>\n",
       "      <th></th>\n",
       "    </tr>\n",
       "  </thead>\n",
       "  <tbody>\n",
       "    <tr>\n",
       "      <th>Female</th>\n",
       "      <td>113</td>\n",
       "      <td>$3.20</td>\n",
       "      <td>$361.94</td>\n",
       "    </tr>\n",
       "    <tr>\n",
       "      <th>Male</th>\n",
       "      <td>652</td>\n",
       "      <td>$3.02</td>\n",
       "      <td>$1,967.64</td>\n",
       "    </tr>\n",
       "    <tr>\n",
       "      <th>Other / Non-Disclosed</th>\n",
       "      <td>15</td>\n",
       "      <td>$3.35</td>\n",
       "      <td>$50.19</td>\n",
       "    </tr>\n",
       "  </tbody>\n",
       "</table>\n",
       "</div>"
      ],
      "text/plain": [
       "                       Purchase Count Average Purchase Price  \\\n",
       "Gender                                                         \n",
       "Female                            113                  $3.20   \n",
       "Male                              652                  $3.02   \n",
       "Other / Non-Disclosed              15                  $3.35   \n",
       "\n",
       "                      Total Purchase Value  \n",
       "Gender                                      \n",
       "Female                             $361.94  \n",
       "Male                             $1,967.64  \n",
       "Other / Non-Disclosed               $50.19  "
      ]
     },
     "execution_count": 6,
     "metadata": {},
     "output_type": "execute_result"
    }
   ],
   "source": [
    "# Generating a data frame with the number of purchases grouped by gender\n",
    "purchasing_analysis_raw = raw.loc[:, ['Gender', 'Item ID']]\n",
    "purchasing_analysis = purchasing_analysis_raw.groupby('Gender').count()\n",
    "purchasing_analysis = purchasing_analysis.rename(columns = {'Item ID' : 'Purchase Count'})\n",
    "\n",
    "# Calculating the average value of the purchases by gender\n",
    "purchasing_analysis_raw = raw.loc[:, ['Gender', 'Price']]\n",
    "purchasing_analysis_raw = purchasing_analysis_raw.groupby('Gender').mean()\n",
    "purchasing_analysis = purchasing_analysis.join(purchasing_analysis_raw)\n",
    "purchasing_analysis = purchasing_analysis.rename(columns = {'Price' : 'Average Purchase Price'})\n",
    "purchasing_analysis['Average Purchase Price'] = purchasing_analysis['Average Purchase Price'].map('${:,.2f}'.format) \n",
    "\n",
    "# Calculating the total value of the purchases by gender\n",
    "purchasing_analysis_raw = raw.loc[:, ['Gender', 'Price']]\n",
    "purchasing_analysis_raw = purchasing_analysis_raw.groupby('Gender').sum()\n",
    "purchasing_analysis = purchasing_analysis.join(purchasing_analysis_raw)\n",
    "purchasing_analysis = purchasing_analysis.rename(columns = {'Price' : 'Total Purchase Value'})\n",
    "purchasing_analysis['Total Purchase Value'] = purchasing_analysis['Total Purchase Value'].map('${:,.2f}'.format) \n",
    "\n",
    "# Calculating the average total purchase per person by gender\n",
    "#purchasing_analysis_raw = raw.loc[:, ['Gender', 'Price']]\n",
    "#purchasing_analysis_raw = purchasing_analysis_raw.groupby('Gender').sum()\n",
    "#purchasing_analysis = purchasing_analysis.join(purchasing_analysis_raw)\n",
    "#purchasing_analysis = purchasing_analysis.rename(columns = {'Price' : 'Total Purchase Value'})\n",
    "#purchasing_analysis['Total Purchase Value'] = purchasing_analysis['Total Purchase Value'].map('${:,.2f}'.format) \n",
    "purchasing_analysis.head()"
   ]
  },
  {
   "cell_type": "code",
   "execution_count": null,
   "metadata": {},
   "outputs": [],
   "source": []
  }
 ],
 "metadata": {
  "kernelspec": {
   "display_name": "Python 3",
   "language": "python",
   "name": "python3"
  },
  "language_info": {
   "codemirror_mode": {
    "name": "ipython",
    "version": 3
   },
   "file_extension": ".py",
   "mimetype": "text/x-python",
   "name": "python",
   "nbconvert_exporter": "python",
   "pygments_lexer": "ipython3",
   "version": "3.7.1"
  }
 },
 "nbformat": 4,
 "nbformat_minor": 2
}
