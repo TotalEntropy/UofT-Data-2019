{
 "cells": [
  {
   "cell_type": "code",
   "execution_count": 1,
   "metadata": {},
   "outputs": [],
   "source": [
    "#importing libraries\n",
    "import os\n",
    "import csv\n",
    "\n",
    "#Importing csv file\n",
    "budget_csv = os.path.join(\"election_data.csv\")"
   ]
  },
  {
   "cell_type": "code",
   "execution_count": 2,
   "metadata": {},
   "outputs": [],
   "source": [
    "# initialising variables\n",
    "votes = 0\n",
    "\n",
    "# opening the csv\n",
    "with open(budget_csv, newline = \"\") as csv_file:\n",
    "    csv_reader = csv.reader(csv_file, delimiter = ',')\n",
    "    \n",
    "    # Skipping the header\n",
    "    next(csv_reader)\n",
    "    \n",
    "    #looping through the csv\n",
    "    for row in csv_reader:\n",
    "        \n",
    "        # Creating a dictionary on the first result\n",
    "        if votes == 0:\n",
    "            candidates = {row[2] : 1}\n",
    "        \n",
    "        # Add the new candidate if they are not in the dictionary\n",
    "        else:\n",
    "            if row[2] not in candidates:\n",
    "                candidates[row[2]] = 1\n",
    "            \n",
    "            # If they are in the dictionary add one to the vote\n",
    "            else:\n",
    "                candidates[row[2]] += 1\n",
    "                \n",
    "        votes += 1"
   ]
  },
  {
   "cell_type": "code",
   "execution_count": 3,
   "metadata": {},
   "outputs": [
    {
     "name": "stdout",
     "output_type": "stream",
     "text": [
      "Election Results\n",
      "------------------------\n",
      "Total Votes: 3521001\n",
      "------------------------\n",
      "Khan: 63.00% (2218231)\n",
      "Correy: 20.00% (704200)\n",
      "Li: 14.00% (492940)\n",
      "O'Tooley: 3.00% (105630)\n",
      "-----------------------\n",
      "Winner: Khan\n",
      "------------------------\n"
     ]
    }
   ],
   "source": [
    "# Printing the results\n",
    "print(f'Election Results')\n",
    "print(f'------------------------')\n",
    "print(f'Total Votes: {votes}')\n",
    "print(f'------------------------')\n",
    "for candidate, tally in candidates.items():\n",
    "    print(f'{candidate}: {(tally/votes):.2%} ({tally})')\n",
    "print(f'-----------------------')\n",
    "print(f'Winner: {max(candidates, key = lambda x: candidates.get(x))}')\n",
    "print(f'------------------------')"
   ]
  },
  {
   "cell_type": "code",
   "execution_count": 4,
   "metadata": {},
   "outputs": [],
   "source": [
    "# Writing the results to a text file\n",
    "text_file = open(\"Election_Results.txt\",\"w\")\n",
    "text_file.write(f\"Election Results\\n\")\n",
    "text_file.write(f'------------------------\\n')\n",
    "text_file.write(f'Total Votes: {votes}\\n')\n",
    "text_file.write(f'------------------------\\n')\n",
    "for candidate, tally in candidates.items():\n",
    "    text_file.write(f'{candidate}: {(tally/votes):.2%} ({tally})\\n')\n",
    "text_file.write(f'-----------------------\\n')\n",
    "text_file.write(f'Winner: {max(candidates, key = lambda x: candidates.get(x))}\\n')\n",
    "text_file.write(f'------------------------\\n')\n",
    "text_file.close()"
   ]
  },
  {
   "cell_type": "code",
   "execution_count": null,
   "metadata": {},
   "outputs": [],
   "source": []
  }
 ],
 "metadata": {
  "kernelspec": {
   "display_name": "Python 3",
   "language": "python",
   "name": "python3"
  },
  "language_info": {
   "codemirror_mode": {
    "name": "ipython",
    "version": 3
   },
   "file_extension": ".py",
   "mimetype": "text/x-python",
   "name": "python",
   "nbconvert_exporter": "python",
   "pygments_lexer": "ipython3",
   "version": "3.7.1"
  }
 },
 "nbformat": 4,
 "nbformat_minor": 2
}
